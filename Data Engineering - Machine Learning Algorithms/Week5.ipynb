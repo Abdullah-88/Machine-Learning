{
  "nbformat": 4,
  "nbformat_minor": 0,
  "metadata": {
    "colab": {
      "name": "lecture5.ipynb",
      "provenance": []
    },
    "kernelspec": {
      "name": "python3",
      "display_name": "Python 3"
    }
  },
  "cells": [
    {
      "cell_type": "code",
      "metadata": {
        "id": "9H1NxvKZogih",
        "colab_type": "code",
        "colab": {}
      },
      "source": [
        "#Polynomial Regressin\n",
        "import pandas as pd\n",
        "import matplotlib.pyplot as plt\n",
        "o\n",
        "df = pd.read_csv(\"/content/drive/My Drive/SUREYYA HOCA'S COURSE/Machine Learning/3) Polynomial Linear Regression/polynomial-regression.csv\",sep = \";\")\n",
        "\n",
        "y = df.araba_max_hiz.values.reshape(-1,1)\n",
        "x = df.araba_fiyat.values.reshape(-1,1)\n",
        "\n",
        "plt.scatter(x,y)\n",
        "plt.ylabel(\"car_max_velocity\")\n",
        "plt.xlabel(\"car_price\")\n",
        "plt.show()\n"
      ],
      "execution_count": 0,
      "outputs": []
    },
    {
      "cell_type": "code",
      "metadata": {
        "id": "32YnaC-fsBBP",
        "colab_type": "code",
        "colab": {}
      },
      "source": [
        "# linear regression =  y = b0 + b1*x\n",
        "# multiple linear regression   y = b0 + b1*x1 + b2*x2\n",
        "\n",
        "#  linear regression\n",
        "from sklearn.linear_model import LinearRegression\n",
        "\n",
        "lr = LinearRegression()\n",
        "\n",
        "lr.fit(x,y)\n",
        "\n",
        "# predict\n",
        "y_head = lr.predict(x)\n",
        "plt.scatter(x,y)\n",
        "plt.ylabel(\"car_max_velocity\")\n",
        "plt.xlabel(\"car_price\")\n",
        "plt.plot(x,y_head,color=\"red\",label =\"linear\")\n",
        "plt.show()\n"
      ],
      "execution_count": 0,
      "outputs": []
    },
    {
      "cell_type": "code",
      "metadata": {
        "id": "-JTqpYwYsGvx",
        "colab_type": "code",
        "colab": {}
      },
      "source": [
        "\n",
        "# polynomial regression =  y = b0 + b1*x +b2*x^2 + b3*x^3 + ... + bn*x^n\n",
        "\n",
        "from sklearn.preprocessing import PolynomialFeatures\n",
        "polynomial_regression = PolynomialFeatures(degree = 1)\n",
        "\n",
        "x_polynomial = polynomial_regression.fit_transform(x)\n",
        "\n",
        "\n",
        "# fit\n",
        "linear_regression2 = LinearRegression()\n",
        "linear_regression2.fit(x_polynomial,y)\n",
        "\n",
        "\n",
        "\n",
        "y_head2 = linear_regression2.predict(x_polynomial)\n",
        "plt.scatter(x,y)\n",
        "plt.ylabel(\"car_max_velocity\")\n",
        "plt.xlabel(\"car_price\")\n",
        "plt.plot(x,y_head2,color= \"green\",label = \"poly\")\n",
        "plt.legend()\n",
        "plt.show()"
      ],
      "execution_count": 0,
      "outputs": []
    },
    {
      "cell_type": "code",
      "metadata": {
        "id": "qlbBMS0moIjO",
        "colab_type": "code",
        "colab": {}
      },
      "source": [
        "# Polynomial Regression and Cross Validation\n",
        "import numpy as np\n",
        "from numpy import linalg as LA\n",
        "import scipy as sp\n",
        "import matplotlib as mpl\n",
        "import matplotlib.pyplot as plt\n",
        "%matplotlib inline"
      ],
      "execution_count": 0,
      "outputs": []
    },
    {
      "cell_type": "code",
      "metadata": {
        "id": "tb-9vVqIouUt",
        "colab_type": "code",
        "colab": {}
      },
      "source": [
        "x=[2, 3,   4, 6,  7,    8,  1, 5,   9   ]\n",
        "y=[6, 8.2, 9, 11, 11.5, 12, 4, 9.5, 11.2]\n",
        "xT=[2, 3,   4, 6,  7,    8]\n",
        "yT=[6, 8.2, 9, 11, 11.5, 12]\n",
        "xE=[1, 5,   9]\n",
        "yE=[4, 9.5, 11.2]\n",
        "plt.scatter(xT,yT, s=80, c=\"blue\")\n",
        "plt.scatter(xE,yE, s=80, c=\"green\")\n",
        "plt.show()\n"
      ],
      "execution_count": 0,
      "outputs": []
    },
    {
      "cell_type": "code",
      "metadata": {
        "id": "I_bfX0Iloy3U",
        "colab_type": "code",
        "colab": {}
      },
      "source": [
        "# set degree\n",
        "p=1\n",
        "#learn coefficients on training data xT,yT\n",
        "coefs=sp.polyfit(xT,yT,p)\n",
        "ffit = np.poly1d(coefs)\n",
        "resid = ffit(xE) - yE\n",
        "print(resid)"
      ],
      "execution_count": 0,
      "outputs": []
    },
    {
      "cell_type": "code",
      "metadata": {
        "id": "_BTwKrr_o6V4",
        "colab_type": "code",
        "outputId": "fb272c68-1beb-4f36-e1d0-c3b8734ecb26",
        "colab": {
          "base_uri": "https://localhost:8080/",
          "height": 34
        }
      },
      "source": [
        "SSE = LA.norm(resid)**2\n",
        "print(SSE)\n"
      ],
      "execution_count": 0,
      "outputs": [
        {
          "output_type": "stream",
          "text": [
            "2.7409777176177204\n"
          ],
          "name": "stdout"
        }
      ]
    },
    {
      "cell_type": "code",
      "metadata": {
        "id": "3KAObykKo_V9",
        "colab_type": "code",
        "colab": {}
      },
      "source": [
        "plt.axis([0,10,0,15])\n",
        "s=sp.linspace(0,10,101)\n",
        "plt.plot(s,ffit(s),'r-',linewidth=2.0)\n",
        "plt.scatter(xT,yT, s=80, c=\"blue\")\n",
        "plt.scatter(xE,yE, s=50, c=\"green\")\n",
        "plt.title('degree %s fit | SSE %0.3f' % (p, SSE))\n",
        "plt.show()\n"
      ],
      "execution_count": 0,
      "outputs": []
    },
    {
      "cell_type": "code",
      "metadata": {
        "id": "Tj9UiEUepC7Z",
        "colab_type": "code",
        "colab": {}
      },
      "source": [
        "# Regularized Linear Regression\n",
        "import numpy as np\n",
        "from numpy import linalg as LA\n",
        "X = np.array([[1, 8, -3, 5, 4, -9, 4],[1,-2,4,8,-2,-3,2],[1,9,6,-7,4,-5,-5],[1,6,-14,-5,-3,9,-2],[1,-2,11,-6,3,-5,1]])\n",
        "a = np.array([0,0,0,5,0,-2,0])\n",
        "noise = np.random.normal(0,0.5,5)\n",
        "y = X @ a + noise\n",
        "s = 0.5 # regularization parameter\n",
        "k = 3 # number of iterations\n",
        "print(\"norm: \", LA.norm(y), y)\n",
        "r = y\n",
        "for i in range(k):\n",
        "  # select column index most aligned with residual\n",
        "  j = np.argmax(abs(r @ X))\n",
        "  # find best model parameter at j to fit residual\n",
        "  ajp = (np.dot(r,X[:,j])+s/2) / (LA.norm(X[:,j])**2)\n",
        "  ajm = (np.dot(r,X[:,j])-s/2) / (LA.norm(X[:,j])**2)\n",
        "  if LA.norm(r-X[:,j]*ajp) + s*abs(ajp) < LA.norm(r-X[:,j]*ajm) + s*abs(ajm):\n",
        "    aj = ajp\n",
        "  else:\n",
        "    aj = ajm\n",
        "  # udpate residual\n",
        "  r = r - X[:,j]*aj\n",
        "  print(\"update: \", j, aj, LA.norm(r))\n",
        "# Ordinary Least Squares\n",
        "print(\"OLS: \", LA.inv(X.T @ X) @ X.T @ y.T)\n",
        "# Ridge Regression\n",
        "print(\"ridge: \", LA.inv(X.T@ X + s*np.identity(7)) @ X.T @ y.T)\n"
      ],
      "execution_count": 0,
      "outputs": []
    },
    {
      "cell_type": "code",
      "metadata": {
        "id": "yaqNJy8mUCin",
        "colab_type": "code",
        "colab": {}
      },
      "source": [
        "# Load packages and data set\n",
        "import numpy as np\n",
        "from sklearn.model_selection import train_test_split\n",
        "from sklearn import datasets\n",
        "\n",
        "X, y = datasets.load_iris(return_X_y=True)\n",
        "X_train, X_test, y_train, y_test = train_test_split(X, y, test_size=0.4, random_state=0)\n",
        "print (X_train.shape)"
      ],
      "execution_count": 0,
      "outputs": []
    },
    {
      "cell_type": "code",
      "metadata": {
        "id": "jh3HdV-PVjej",
        "colab_type": "code",
        "colab": {}
      },
      "source": [
        "# load a model and fit for data using cross validation\n",
        "from sklearn.linear_model import LinearRegression\n",
        "\n",
        "lr = LinearRegression()\n",
        "lr.fit(X,y)\n",
        "from sklearn.model_selection import cross_val_score\n",
        "scores = cross_val_score(lr, X, y, cv=5)\n",
        "print(scores)"
      ],
      "execution_count": 0,
      "outputs": []
    },
    {
      "cell_type": "code",
      "metadata": {
        "id": "v2qWdV5tW0eX",
        "colab_type": "code",
        "colab": {}
      },
      "source": [
        "# Get mean score and confidence \n",
        "print(\"Accuracy: %0.2f (+/- %0.2f)\" % (scores.mean(), scores.std() * 2))"
      ],
      "execution_count": 0,
      "outputs": []
    }
  ]
}