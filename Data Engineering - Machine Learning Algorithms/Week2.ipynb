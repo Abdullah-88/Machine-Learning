{
  "nbformat": 4,
  "nbformat_minor": 0,
  "metadata": {
    "colab": {
      "name": "lecture2.ipynb",
      "provenance": []
    },
    "kernelspec": {
      "name": "python3",
      "display_name": "Python 3"
    },
    "accelerator": "GPU"
  },
  "cells": [
    {
      "cell_type": "code",
      "metadata": {
        "id": "GqeCwpQN3elF",
        "colab_type": "code",
        "colab": {}
      },
      "source": [
        "# List operations\n",
        "family = ['father',1.73,'mother',1.68,'son',1.71,'daughter',1.7]\n",
        "\n",
        "# subsetting "
      ],
      "execution_count": 0,
      "outputs": []
    },
    {
      "cell_type": "code",
      "metadata": {
        "id": "8rSRAV_qCaiQ",
        "colab_type": "code",
        "colab": {
          "base_uri": "https://localhost:8080/",
          "height": 34
        },
        "outputId": "ddb37ab8-1d19-4fef-92f8-e02cceac8e09"
      },
      "source": [
        "family[4]"
      ],
      "execution_count": 2,
      "outputs": [
        {
          "output_type": "execute_result",
          "data": {
            "text/plain": [
              "'son'"
            ]
          },
          "metadata": {
            "tags": []
          },
          "execution_count": 2
        }
      ]
    },
    {
      "cell_type": "code",
      "metadata": {
        "id": "hM9TKab15GI1",
        "colab_type": "code",
        "colab": {
          "base_uri": "https://localhost:8080/",
          "height": 34
        },
        "outputId": "4f9d9dfe-7c31-4465-81ac-1979074c3ead"
      },
      "source": [
        "family[-1]"
      ],
      "execution_count": 3,
      "outputs": [
        {
          "output_type": "execute_result",
          "data": {
            "text/plain": [
              "1.7"
            ]
          },
          "metadata": {
            "tags": []
          },
          "execution_count": 3
        }
      ]
    },
    {
      "cell_type": "code",
      "metadata": {
        "id": "NPNVl4UPCMEu",
        "colab_type": "code",
        "colab": {
          "base_uri": "https://localhost:8080/",
          "height": 34
        },
        "outputId": "9ee91590-6fcc-4157-f936-2931b87c9651"
      },
      "source": [
        "family[7]"
      ],
      "execution_count": 4,
      "outputs": [
        {
          "output_type": "execute_result",
          "data": {
            "text/plain": [
              "1.7"
            ]
          },
          "metadata": {
            "tags": []
          },
          "execution_count": 4
        }
      ]
    },
    {
      "cell_type": "code",
      "metadata": {
        "id": "_HJ3yuFZCVU2",
        "colab_type": "code",
        "colab": {
          "base_uri": "https://localhost:8080/",
          "height": 34
        },
        "outputId": "b1f96194-60b7-4b6f-8d6f-953e3ceaceb9"
      },
      "source": [
        "# list slicing  rule : [start:end] with start inclusive and end exclusive\n",
        "family"
      ],
      "execution_count": 5,
      "outputs": [
        {
          "output_type": "execute_result",
          "data": {
            "text/plain": [
              "['father', 1.73, 'mother', 1.68, 'son', 1.71, 'daughter', 1.7]"
            ]
          },
          "metadata": {
            "tags": []
          },
          "execution_count": 5
        }
      ]
    },
    {
      "cell_type": "code",
      "metadata": {
        "id": "d0dGrnnHCvfW",
        "colab_type": "code",
        "colab": {
          "base_uri": "https://localhost:8080/",
          "height": 34
        },
        "outputId": "be9ac286-ce78-492e-f246-94112f3fd586"
      },
      "source": [
        "family[3:5]"
      ],
      "execution_count": 6,
      "outputs": [
        {
          "output_type": "execute_result",
          "data": {
            "text/plain": [
              "[1.68, 'son']"
            ]
          },
          "metadata": {
            "tags": []
          },
          "execution_count": 6
        }
      ]
    },
    {
      "cell_type": "code",
      "metadata": {
        "id": "AXhaq7NlC3WV",
        "colab_type": "code",
        "colab": {
          "base_uri": "https://localhost:8080/",
          "height": 34
        },
        "outputId": "09278805-0995-4b0b-c0d8-a659dff84db4"
      },
      "source": [
        "family[1:4]"
      ],
      "execution_count": 7,
      "outputs": [
        {
          "output_type": "execute_result",
          "data": {
            "text/plain": [
              "[1.73, 'mother', 1.68]"
            ]
          },
          "metadata": {
            "tags": []
          },
          "execution_count": 7
        }
      ]
    },
    {
      "cell_type": "code",
      "metadata": {
        "id": "ZlVS16CJC9nJ",
        "colab_type": "code",
        "colab": {
          "base_uri": "https://localhost:8080/",
          "height": 34
        },
        "outputId": "e5aa6e1a-c07d-4046-e6ec-b32dcbeed642"
      },
      "source": [
        "family[:4]"
      ],
      "execution_count": 8,
      "outputs": [
        {
          "output_type": "execute_result",
          "data": {
            "text/plain": [
              "['father', 1.73, 'mother', 1.68]"
            ]
          },
          "metadata": {
            "tags": []
          },
          "execution_count": 8
        }
      ]
    },
    {
      "cell_type": "code",
      "metadata": {
        "id": "5FKvXUA4DBZk",
        "colab_type": "code",
        "colab": {
          "base_uri": "https://localhost:8080/",
          "height": 34
        },
        "outputId": "25af5154-caff-43fd-93a9-1340b0bf7d9e"
      },
      "source": [
        "family[5:]"
      ],
      "execution_count": 9,
      "outputs": [
        {
          "output_type": "execute_result",
          "data": {
            "text/plain": [
              "[1.71, 'daughter', 1.7]"
            ]
          },
          "metadata": {
            "tags": []
          },
          "execution_count": 9
        }
      ]
    },
    {
      "cell_type": "code",
      "metadata": {
        "id": "CRhXeNzQDIRY",
        "colab_type": "code",
        "colab": {
          "base_uri": "https://localhost:8080/",
          "height": 34
        },
        "outputId": "a8ee6027-1850-4d32-e62e-16f64e092d5e"
      },
      "source": [
        "# List manipulations\n",
        "family"
      ],
      "execution_count": 10,
      "outputs": [
        {
          "output_type": "execute_result",
          "data": {
            "text/plain": [
              "['father', 1.73, 'mother', 1.68, 'son', 1.71, 'daughter', 1.7]"
            ]
          },
          "metadata": {
            "tags": []
          },
          "execution_count": 10
        }
      ]
    },
    {
      "cell_type": "code",
      "metadata": {
        "id": "RorAcNjjEEsF",
        "colab_type": "code",
        "colab": {
          "base_uri": "https://localhost:8080/",
          "height": 34
        },
        "outputId": "dc3c22da-509c-492b-bf1d-d205d023a2bc"
      },
      "source": [
        "#changing list elements\n",
        "family[7] = 1.69\n",
        "family"
      ],
      "execution_count": 11,
      "outputs": [
        {
          "output_type": "execute_result",
          "data": {
            "text/plain": [
              "['father', 1.73, 'mother', 1.68, 'son', 1.71, 'daughter', 1.69]"
            ]
          },
          "metadata": {
            "tags": []
          },
          "execution_count": 11
        }
      ]
    },
    {
      "cell_type": "code",
      "metadata": {
        "id": "xwj5tW4VEOFz",
        "colab_type": "code",
        "colab": {
          "base_uri": "https://localhost:8080/",
          "height": 34
        },
        "outputId": "c6557340-4519-41d2-e51b-b47684d8b29b"
      },
      "source": [
        "family[6:] = ['grandfather',1.72]\n",
        "family"
      ],
      "execution_count": 12,
      "outputs": [
        {
          "output_type": "execute_result",
          "data": {
            "text/plain": [
              "['father', 1.73, 'mother', 1.68, 'son', 1.71, 'grandfather', 1.72]"
            ]
          },
          "metadata": {
            "tags": []
          },
          "execution_count": 12
        }
      ]
    },
    {
      "cell_type": "code",
      "metadata": {
        "id": "UD70SMdAEs-Z",
        "colab_type": "code",
        "colab": {
          "base_uri": "https://localhost:8080/",
          "height": 187
        },
        "outputId": "48a31bcc-2daa-4789-adfe-ae0e7f9b9e85"
      },
      "source": [
        "# adding elements to list\n",
        "family = family + ['daughter',1.69]\n",
        "family"
      ],
      "execution_count": 13,
      "outputs": [
        {
          "output_type": "execute_result",
          "data": {
            "text/plain": [
              "['father',\n",
              " 1.73,\n",
              " 'mother',\n",
              " 1.68,\n",
              " 'son',\n",
              " 1.71,\n",
              " 'grandfather',\n",
              " 1.72,\n",
              " 'daughter',\n",
              " 1.69]"
            ]
          },
          "metadata": {
            "tags": []
          },
          "execution_count": 13
        }
      ]
    },
    {
      "cell_type": "code",
      "metadata": {
        "id": "Z8Siscy_FTDW",
        "colab_type": "code",
        "colab": {
          "base_uri": "https://localhost:8080/",
          "height": 34
        },
        "outputId": "33ba4b74-f21e-472e-a3c0-7ce7875445b6"
      },
      "source": [
        "# deleting elements from list\n",
        "del(family[4:6])\n",
        "family"
      ],
      "execution_count": 14,
      "outputs": [
        {
          "output_type": "execute_result",
          "data": {
            "text/plain": [
              "['father', 1.73, 'mother', 1.68, 'grandfather', 1.72, 'daughter', 1.69]"
            ]
          },
          "metadata": {
            "tags": []
          },
          "execution_count": 14
        }
      ]
    },
    {
      "cell_type": "code",
      "metadata": {
        "id": "sK0sm01bGGNQ",
        "colab_type": "code",
        "colab": {
          "base_uri": "https://localhost:8080/",
          "height": 187
        },
        "outputId": "288f629c-654a-4e62-f3b2-6de29b7f46ad"
      },
      "source": [
        "# appending to list\n",
        "family.append('son')\n",
        "family\n",
        "family.append(1.71)\n",
        "family"
      ],
      "execution_count": 15,
      "outputs": [
        {
          "output_type": "execute_result",
          "data": {
            "text/plain": [
              "['father',\n",
              " 1.73,\n",
              " 'mother',\n",
              " 1.68,\n",
              " 'grandfather',\n",
              " 1.72,\n",
              " 'daughter',\n",
              " 1.69,\n",
              " 'son',\n",
              " 1.71]"
            ]
          },
          "metadata": {
            "tags": []
          },
          "execution_count": 15
        }
      ]
    },
    {
      "cell_type": "code",
      "metadata": {
        "id": "XEkGdUUoG4UO",
        "colab_type": "code",
        "colab": {
          "base_uri": "https://localhost:8080/",
          "height": 34
        },
        "outputId": "065910ff-1793-426c-c585-912a7512536b"
      },
      "source": [
        "# removing from list\n",
        "family.remove('grandfather')\n",
        "family\n"
      ],
      "execution_count": 16,
      "outputs": [
        {
          "output_type": "execute_result",
          "data": {
            "text/plain": [
              "['father', 1.73, 'mother', 1.68, 1.72, 'daughter', 1.69, 'son', 1.71]"
            ]
          },
          "metadata": {
            "tags": []
          },
          "execution_count": 16
        }
      ]
    },
    {
      "cell_type": "code",
      "metadata": {
        "id": "a7rz3bIlHXVL",
        "colab_type": "code",
        "colab": {
          "base_uri": "https://localhost:8080/",
          "height": 34
        },
        "outputId": "304945e7-c251-407d-bb08-ccdf8a65cee3"
      },
      "source": [
        "family.remove(1.72)\n",
        "family"
      ],
      "execution_count": 17,
      "outputs": [
        {
          "output_type": "execute_result",
          "data": {
            "text/plain": [
              "['father', 1.73, 'mother', 1.68, 'daughter', 1.69, 'son', 1.71]"
            ]
          },
          "metadata": {
            "tags": []
          },
          "execution_count": 17
        }
      ]
    },
    {
      "cell_type": "code",
      "metadata": {
        "id": "Mekhqz6AHyde",
        "colab_type": "code",
        "colab": {
          "base_uri": "https://localhost:8080/",
          "height": 34
        },
        "outputId": "815c6917-d4b9-463d-8038-a51c3262d11d"
      },
      "source": [
        "family.index('son')\n"
      ],
      "execution_count": 18,
      "outputs": [
        {
          "output_type": "execute_result",
          "data": {
            "text/plain": [
              "6"
            ]
          },
          "metadata": {
            "tags": []
          },
          "execution_count": 18
        }
      ]
    },
    {
      "cell_type": "code",
      "metadata": {
        "id": "ugEvoOnFH3bD",
        "colab_type": "code",
        "colab": {
          "base_uri": "https://localhost:8080/",
          "height": 34
        },
        "outputId": "edc6319e-ffdf-4262-d82b-07306db9857a"
      },
      "source": [
        "family.pop(6)"
      ],
      "execution_count": 19,
      "outputs": [
        {
          "output_type": "execute_result",
          "data": {
            "text/plain": [
              "'son'"
            ]
          },
          "metadata": {
            "tags": []
          },
          "execution_count": 19
        }
      ]
    },
    {
      "cell_type": "code",
      "metadata": {
        "id": "zG57K6DwICcP",
        "colab_type": "code",
        "colab": {
          "base_uri": "https://localhost:8080/",
          "height": 34
        },
        "outputId": "7b8a6a53-64ea-4380-cc53-27ca177e5ea3"
      },
      "source": [
        "family"
      ],
      "execution_count": 20,
      "outputs": [
        {
          "output_type": "execute_result",
          "data": {
            "text/plain": [
              "['father', 1.73, 'mother', 1.68, 'daughter', 1.69, 1.71]"
            ]
          },
          "metadata": {
            "tags": []
          },
          "execution_count": 20
        }
      ]
    },
    {
      "cell_type": "code",
      "metadata": {
        "id": "4q_S-w-FIFG6",
        "colab_type": "code",
        "colab": {
          "base_uri": "https://localhost:8080/",
          "height": 34
        },
        "outputId": "ff55579a-9645-4dd1-f0b5-f43cc2be90ec"
      },
      "source": [
        "# inserting to a list\n",
        "family.insert(6,'son')\n",
        "family"
      ],
      "execution_count": 21,
      "outputs": [
        {
          "output_type": "execute_result",
          "data": {
            "text/plain": [
              "['father', 1.73, 'mother', 1.68, 'daughter', 1.69, 'son', 1.71]"
            ]
          },
          "metadata": {
            "tags": []
          },
          "execution_count": 21
        }
      ]
    },
    {
      "cell_type": "code",
      "metadata": {
        "id": "Sy-zBo2V5GVL",
        "colab_type": "code",
        "colab": {}
      },
      "source": [
        "# Python OOP\n",
        "class Employee:\n",
        "  raise_rate = 1.8\n",
        "  counter = 0\n",
        "  def __init__(self,name,surname,salary): #constructor\n",
        "     self.name = name\n",
        "     self.surname = surname\n",
        "     self.salary = salary\n",
        "     self.email = name + surname + \"@asd.com\"\n",
        "     Employee.counter = Employee.counter + 1\n",
        "  def giveNameSurname(self):\n",
        "    return self.name + \" \" + self.surname\n",
        "  def perform_raise(self):\n",
        "    self.salary = self.salary + self.salary * self.raise_rate  \n"
      ],
      "execution_count": 0,
      "outputs": []
    },
    {
      "cell_type": "code",
      "metadata": {
        "id": "XdSIQd5P8rVj",
        "colab_type": "code",
        "colab": {
          "base_uri": "https://localhost:8080/",
          "height": 51
        },
        "outputId": "7d1149e1-b3b9-42b2-c841-9ea4acfe5efb"
      },
      "source": [
        "# class variable\n",
        "employee1 = Employee(\"ali\", \"veli\",100) \n",
        "print(\"First salary: \",employee1.salary)\n",
        "employee1.perform_raise()\n",
        "print(\"New salary: \",employee1.salary)\n",
        "\n",
        "employee2 = Employee(\"ayse\", \"hatice\",200) \n",
        "employee3 = Employee(\"ayse\", \"yelda\",600) \n",
        "employee4 = Employee(\"eren\", \"hilal\",500)"
      ],
      "execution_count": 23,
      "outputs": [
        {
          "output_type": "stream",
          "text": [
            "First salary:  100\n",
            "New salary:  280.0\n"
          ],
          "name": "stdout"
        }
      ]
    },
    {
      "cell_type": "code",
      "metadata": {
        "id": "NelYPMzq9nrR",
        "colab_type": "code",
        "colab": {
          "base_uri": "https://localhost:8080/",
          "height": 51
        },
        "outputId": "98ca27e4-65fe-4c46-8460-94638e14e11c"
      },
      "source": [
        "employee_list = [employee1,employee2,employee3,employee4]\n",
        "\n",
        "maximum_salary = -1\n",
        "index = -1\n",
        "for each in employee_list:\n",
        "    if(each.salary>maximum_salary):\n",
        "        maximum_salary = each.salary\n",
        "        index = each\n",
        "        \n",
        "print(maximum_salary)\n",
        "print(index.giveNameSurname())"
      ],
      "execution_count": 24,
      "outputs": [
        {
          "output_type": "stream",
          "text": [
            "600\n",
            "ayse yelda\n"
          ],
          "name": "stdout"
        }
      ]
    },
    {
      "cell_type": "code",
      "metadata": {
        "id": "_0mrTmKpK2pO",
        "colab_type": "code",
        "colab": {
          "base_uri": "https://localhost:8080/",
          "height": 34
        },
        "outputId": "ed5eb4c7-f2f7-43cc-b2cc-2948dd2f5a18"
      },
      "source": [
        " #importing\n",
        "import numpy as np\n",
        "\n",
        "# numpy basics\n",
        "array = np.array([1,2,3,4,5,6,7,8,9,10,11,12,13,14,15])  # 1*15 vector\n",
        "\n",
        "print(array.shape)"
      ],
      "execution_count": 25,
      "outputs": [
        {
          "output_type": "stream",
          "text": [
            "(15,)\n"
          ],
          "name": "stdout"
        }
      ]
    },
    {
      "cell_type": "code",
      "metadata": {
        "id": "EwAcja-ZLQl1",
        "colab_type": "code",
        "colab": {
          "base_uri": "https://localhost:8080/",
          "height": 51
        },
        "outputId": "84fbe659-8888-4207-d211-ed1770acbf68"
      },
      "source": [
        "a = array.reshape(3,5)\n",
        "print(\"shape: \",a.shape)\n",
        "print(\"dimension: \", a.ndim)"
      ],
      "execution_count": 26,
      "outputs": [
        {
          "output_type": "stream",
          "text": [
            "shape:  (3, 5)\n",
            "dimension:  2\n"
          ],
          "name": "stdout"
        }
      ]
    },
    {
      "cell_type": "code",
      "metadata": {
        "id": "1oJ673tWLed2",
        "colab_type": "code",
        "colab": {
          "base_uri": "https://localhost:8080/",
          "height": 51
        },
        "outputId": "6a2807ea-f8dc-4dac-e1a7-ed2f221ecc0e"
      },
      "source": [
        "print(\"data type: \",a.dtype.name)\n",
        "print(\"size: \",a.size)"
      ],
      "execution_count": 27,
      "outputs": [
        {
          "output_type": "stream",
          "text": [
            "data type:  int64\n",
            "size:  15\n"
          ],
          "name": "stdout"
        }
      ]
    },
    {
      "cell_type": "code",
      "metadata": {
        "id": "RtDms6RyL454",
        "colab_type": "code",
        "colab": {
          "base_uri": "https://localhost:8080/",
          "height": 68
        },
        "outputId": "f1345428-5936-4087-eb11-2e7fd73c9285"
      },
      "source": [
        "array1 = np.array([[1,2,3,4],[5,6,7,8],[9,8,7,5]])\n",
        "print(array1)"
      ],
      "execution_count": 29,
      "outputs": [
        {
          "output_type": "stream",
          "text": [
            "[[1 2 3 4]\n",
            " [5 6 7 8]\n",
            " [9 8 7 5]]\n"
          ],
          "name": "stdout"
        }
      ]
    },
    {
      "cell_type": "code",
      "metadata": {
        "id": "ZiICuX5JMINt",
        "colab_type": "code",
        "colab": {
          "base_uri": "https://localhost:8080/",
          "height": 68
        },
        "outputId": "6a04d239-043b-40b2-ad5f-b457f4df9d52"
      },
      "source": [
        "zeros = np.zeros((3,4))\n",
        "\n",
        "zeros[0,0] = 5\n",
        "print(zeros)"
      ],
      "execution_count": 30,
      "outputs": [
        {
          "output_type": "stream",
          "text": [
            "[[5. 0. 0. 0.]\n",
            " [0. 0. 0. 0.]\n",
            " [0. 0. 0. 0.]]\n"
          ],
          "name": "stdout"
        }
      ]
    },
    {
      "cell_type": "code",
      "metadata": {
        "id": "fVV5LdrtMc8I",
        "colab_type": "code",
        "colab": {
          "base_uri": "https://localhost:8080/",
          "height": 68
        },
        "outputId": "9398b341-dcf9-45a5-b9db-10452b2ee0b9"
      },
      "source": [
        "np.ones((3,4))"
      ],
      "execution_count": 31,
      "outputs": [
        {
          "output_type": "execute_result",
          "data": {
            "text/plain": [
              "array([[1., 1., 1., 1.],\n",
              "       [1., 1., 1., 1.],\n",
              "       [1., 1., 1., 1.]])"
            ]
          },
          "metadata": {
            "tags": []
          },
          "execution_count": 31
        }
      ]
    },
    {
      "cell_type": "code",
      "metadata": {
        "id": "PGTMLoKoMhFv",
        "colab_type": "code",
        "colab": {
          "base_uri": "https://localhost:8080/",
          "height": 51
        },
        "outputId": "cca55663-f67a-409f-852b-b6eda76966c4"
      },
      "source": [
        "np.empty((2,3))"
      ],
      "execution_count": 32,
      "outputs": [
        {
          "output_type": "execute_result",
          "data": {
            "text/plain": [
              "array([[2.4885723e-316, 0.0000000e+000, 0.0000000e+000],\n",
              "       [0.0000000e+000, 0.0000000e+000, 0.0000000e+000]])"
            ]
          },
          "metadata": {
            "tags": []
          },
          "execution_count": 32
        }
      ]
    },
    {
      "cell_type": "code",
      "metadata": {
        "id": "jtZ-Fn3LMpqV",
        "colab_type": "code",
        "colab": {
          "base_uri": "https://localhost:8080/",
          "height": 34
        },
        "outputId": "30d438a3-91ed-4176-bbbf-158a25d6cf3d"
      },
      "source": [
        "a = np.arange(10,55,5)\n",
        "print(a)"
      ],
      "execution_count": 33,
      "outputs": [
        {
          "output_type": "stream",
          "text": [
            "[10 15 20 25 30 35 40 45 50]\n"
          ],
          "name": "stdout"
        }
      ]
    },
    {
      "cell_type": "code",
      "metadata": {
        "id": "F5LpD7LoNLiY",
        "colab_type": "code",
        "colab": {
          "base_uri": "https://localhost:8080/",
          "height": 85
        },
        "outputId": "d149878c-2ef9-4a34-99e6-c8753f26c1e1"
      },
      "source": [
        "a = np.linspace(10,50,20)\n",
        "print(a)\n"
      ],
      "execution_count": 38,
      "outputs": [
        {
          "output_type": "stream",
          "text": [
            "[10.         12.10526316 14.21052632 16.31578947 18.42105263 20.52631579\n",
            " 22.63157895 24.73684211 26.84210526 28.94736842 31.05263158 33.15789474\n",
            " 35.26315789 37.36842105 39.47368421 41.57894737 43.68421053 45.78947368\n",
            " 47.89473684 50.        ]\n"
          ],
          "name": "stdout"
        }
      ]
    },
    {
      "cell_type": "code",
      "metadata": {
        "id": "3a-EvglQNdle",
        "colab_type": "code",
        "colab": {
          "base_uri": "https://localhost:8080/",
          "height": 51
        },
        "outputId": "58f4671a-9208-4ff8-d95f-ca7c632b2fb5"
      },
      "source": [
        "a = np.array([[1,2,3],[4,5,6]])\n",
        "b = np.array([[1,2,3],[4,5,6]])\n",
        "\n",
        "# element wise prodcut\n",
        "print(a*b)\n"
      ],
      "execution_count": 35,
      "outputs": [
        {
          "output_type": "stream",
          "text": [
            "[[ 1  4  9]\n",
            " [16 25 36]]\n"
          ],
          "name": "stdout"
        }
      ]
    },
    {
      "cell_type": "code",
      "metadata": {
        "id": "G4JIuTX4Nq2o",
        "colab_type": "code",
        "colab": {
          "base_uri": "https://localhost:8080/",
          "height": 51
        },
        "outputId": "127e6a3b-e862-43df-dc87-82cf8864ca32"
      },
      "source": [
        "a.dot(b.T)"
      ],
      "execution_count": 36,
      "outputs": [
        {
          "output_type": "execute_result",
          "data": {
            "text/plain": [
              "array([[14, 32],\n",
              "       [32, 77]])"
            ]
          },
          "metadata": {
            "tags": []
          },
          "execution_count": 36
        }
      ]
    },
    {
      "cell_type": "code",
      "metadata": {
        "id": "5iz6LWn-NxbI",
        "colab_type": "code",
        "colab": {}
      },
      "source": [
        "a = np.random.random((5,5))*10"
      ],
      "execution_count": 0,
      "outputs": []
    },
    {
      "cell_type": "code",
      "metadata": {
        "id": "_3kLhvmmNq1O",
        "colab_type": "code",
        "colab": {}
      },
      "source": [
        "print(a.sum())\n",
        "print(a.max())\n",
        "print(a.min())"
      ],
      "execution_count": 0,
      "outputs": []
    },
    {
      "cell_type": "code",
      "metadata": {
        "id": "x9hWZ987M2mN",
        "colab_type": "code",
        "colab": {}
      },
      "source": [
        "print(a.sum(axis=0))"
      ],
      "execution_count": 0,
      "outputs": []
    },
    {
      "cell_type": "code",
      "metadata": {
        "id": "jeFDy1-9O0wd",
        "colab_type": "code",
        "colab": {}
      },
      "source": [
        "print(a.sum(axis=1))"
      ],
      "execution_count": 0,
      "outputs": []
    }
  ]
}