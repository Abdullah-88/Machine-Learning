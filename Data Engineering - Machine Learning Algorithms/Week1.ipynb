{
  "nbformat": 4,
  "nbformat_minor": 0,
  "metadata": {
    "colab": {
      "name": "lecture1.ipynb",
      "provenance": []
    },
    "kernelspec": {
      "name": "python3",
      "display_name": "Python 3"
    },
    "accelerator": "GPU"
  },
  "cells": [
    {
      "cell_type": "code",
      "metadata": {
        "id": "pubmK2cEByJZ",
        "colab_type": "code",
        "outputId": "002d1388-863f-40a8-fed5-9faaf0e37e38",
        "colab": {
          "base_uri": "https://localhost:8080/",
          "height": 51
        }
      },
      "source": [
        "# Variables\n",
        "var1 = 10 # integer\n",
        "var2 = 25\n",
        "today = \"Friday\"\n",
        "var3 = 10.0 # float \n",
        "print(var3)\n",
        "variable_type = type(var3)\n",
        "print(variable_type)"
      ],
      "execution_count": 1,
      "outputs": [
        {
          "output_type": "stream",
          "text": [
            "10.0\n",
            "<class 'float'>\n"
          ],
          "name": "stdout"
        }
      ]
    },
    {
      "cell_type": "code",
      "metadata": {
        "id": "ZM_pZ4XtFTiW",
        "colab_type": "code",
        "outputId": "8f938acf-a32c-44d4-ed2a-fdceccf8d80b",
        "colab": {
          "base_uri": "https://localhost:8080/",
          "height": 51
        }
      },
      "source": [
        "# Strings\n",
        "s = \"Today is Friday\"\n",
        "variable_type = type(s)\n",
        "print(s)\n",
        "print(variable_type) "
      ],
      "execution_count": 2,
      "outputs": [
        {
          "output_type": "stream",
          "text": [
            "Today is Friday\n",
            "<class 'str'>\n"
          ],
          "name": "stdout"
        }
      ]
    },
    {
      "cell_type": "code",
      "metadata": {
        "id": "jxX9eW9ZF0Ka",
        "colab_type": "code",
        "colab": {
          "base_uri": "https://localhost:8080/",
          "height": 34
        },
        "outputId": "356deb00-9b64-4176-b4a8-a79dda706b95"
      },
      "source": [
        "var1 = \"ankara\"\n",
        "var2 = \"ist\"\n",
        "var3 = var1+var2\n",
        "print(var3)\n"
      ],
      "execution_count": 3,
      "outputs": [
        {
          "output_type": "stream",
          "text": [
            "ankaraist\n"
          ],
          "name": "stdout"
        }
      ]
    },
    {
      "cell_type": "code",
      "metadata": {
        "id": "rFuXWMYwHR8d",
        "colab_type": "code",
        "colab": {
          "base_uri": "https://localhost:8080/",
          "height": 34
        },
        "outputId": "95628cc5-170f-4e23-d245-dc79c85e4988"
      },
      "source": [
        "var4 = \"100\"\n",
        "var5 = \"200\"\n",
        "var6 = var4+var5\n",
        "length = len(var6) \n",
        "print(length)"
      ],
      "execution_count": 4,
      "outputs": [
        {
          "output_type": "stream",
          "text": [
            "6\n"
          ],
          "name": "stdout"
        }
      ]
    },
    {
      "cell_type": "code",
      "metadata": {
        "id": "g9YnaEhmHbF0",
        "colab_type": "code",
        "colab": {}
      },
      "source": [
        "# numbers\n",
        "integers = -60\n",
        "floats = -40.5"
      ],
      "execution_count": 0,
      "outputs": []
    },
    {
      "cell_type": "code",
      "metadata": {
        "id": "FdM65jFTHn_a",
        "colab_type": "code",
        "colab": {
          "base_uri": "https://localhost:8080/",
          "height": 34
        },
        "outputId": "80376032-29ff-43c3-8169-950804443320"
      },
      "source": [
        "# built in functions\n",
        "float1 = 50.5\n",
        "to_integer = int(float1)\n",
        "print(to_integer)"
      ],
      "execution_count": 6,
      "outputs": [
        {
          "output_type": "stream",
          "text": [
            "50\n"
          ],
          "name": "stdout"
        }
      ]
    },
    {
      "cell_type": "code",
      "metadata": {
        "id": "0G3jGSYGI1Ey",
        "colab_type": "code",
        "colab": {
          "base_uri": "https://localhost:8080/",
          "height": 34
        },
        "outputId": "279df33f-3576-4a2e-f796-defccb274b8b"
      },
      "source": [
        "float2 = 40.6\n",
        "rounding = round(float2)\n",
        "print(rounding)"
      ],
      "execution_count": 7,
      "outputs": [
        {
          "output_type": "stream",
          "text": [
            "41\n"
          ],
          "name": "stdout"
        }
      ]
    },
    {
      "cell_type": "code",
      "metadata": {
        "id": "HOzYWHGtI_88",
        "colab_type": "code",
        "colab": {
          "base_uri": "https://localhost:8080/",
          "height": 34
        },
        "outputId": "645414db-3b00-4019-8c72-f709b82f1e01"
      },
      "source": [
        "# Functions\n",
        "var1 = 20\n",
        "var2 = 50\n",
        "\n",
        "def func(a,b):\n",
        "   output = (((a+b)*50)/100.0)*a/b\n",
        "   return output\n",
        "\n",
        "answer = func(var1,var2)\n",
        "print(answer)"
      ],
      "execution_count": 8,
      "outputs": [
        {
          "output_type": "stream",
          "text": [
            "14.0\n"
          ],
          "name": "stdout"
        }
      ]
    },
    {
      "cell_type": "code",
      "metadata": {
        "id": "yG-sQ9ocJodB",
        "colab_type": "code",
        "colab": {
          "base_uri": "https://localhost:8080/",
          "height": 34
        },
        "outputId": "5487bd87-9e9e-47e1-8e66-6feca793aa3d"
      },
      "source": [
        "def printing():\n",
        "  print(\"This is BAU\")\n",
        "printing()  "
      ],
      "execution_count": 9,
      "outputs": [
        {
          "output_type": "stream",
          "text": [
            "This is BAU\n"
          ],
          "name": "stdout"
        }
      ]
    },
    {
      "cell_type": "code",
      "metadata": {
        "id": "XE_Q2SYtKDEe",
        "colab_type": "code",
        "outputId": "c17c683c-3804-4817-a781-493bb7fe4a41",
        "colab": {
          "base_uri": "https://localhost:8080/",
          "height": 34
        }
      },
      "source": [
        "# Lambda functions\n",
        "x = 5\n",
        "output = lambda x:x*x\n",
        "print(output(x))"
      ],
      "execution_count": 10,
      "outputs": [
        {
          "output_type": "stream",
          "text": [
            "25\n"
          ],
          "name": "stdout"
        }
      ]
    },
    {
      "cell_type": "code",
      "metadata": {
        "id": "6xom_Jy0KY9C",
        "colab_type": "code",
        "outputId": "410f8ee5-ed7a-4949-a3ba-4eb99e327acc",
        "colab": {
          "base_uri": "https://localhost:8080/",
          "height": 34
        }
      },
      "source": [
        "# lists \n",
        "list1 = [1,2,3,4,5,6]\n",
        "type(list1)"
      ],
      "execution_count": 0,
      "outputs": [
        {
          "output_type": "execute_result",
          "data": {
            "text/plain": [
              "list"
            ]
          },
          "metadata": {
            "tags": []
          },
          "execution_count": 4
        }
      ]
    },
    {
      "cell_type": "code",
      "metadata": {
        "id": "DnK_UzFeKpZd",
        "colab_type": "code",
        "outputId": "c232c927-3669-48e1-d7a9-615f8087c81c",
        "colab": {
          "base_uri": "https://localhost:8080/",
          "height": 34
        }
      },
      "source": [
        "list_str = [\"Sunday\",\"Monday\",\"Tuesday\"]\n",
        "type(list_str)"
      ],
      "execution_count": 0,
      "outputs": [
        {
          "output_type": "execute_result",
          "data": {
            "text/plain": [
              "list"
            ]
          },
          "metadata": {
            "tags": []
          },
          "execution_count": 5
        }
      ]
    },
    {
      "cell_type": "code",
      "metadata": {
        "id": "L6moB0rRLIkI",
        "colab_type": "code",
        "outputId": "baeabbe1-1d6e-4ff3-8456-d2311660ec3c",
        "colab": {
          "base_uri": "https://localhost:8080/",
          "height": 136
        }
      },
      "source": [
        "list1 = [1,2,3,4,5,6]\n",
        "value = list1[1]\n",
        "print(value)\n",
        "\n",
        "last_value = list1[-1]\n",
        "print(last_value)\n",
        "\n",
        "list_divide = list1[0:3]\n",
        "print(list_divide)\n",
        "list1.append(7)\n",
        "print(list1)\n",
        "list1.remove(7)\n",
        "print(list1)\n",
        "list1.reverse()\n",
        "print(list1)\n",
        "\n",
        "list2 = [1,5,4,3,6,7,2]\n",
        "list2.sort()\n",
        "print(list2)"
      ],
      "execution_count": 0,
      "outputs": [
        {
          "output_type": "stream",
          "text": [
            "2\n",
            "6\n",
            "[1, 2, 3]\n",
            "[1, 2, 3, 4, 5, 6, 7]\n",
            "[1, 2, 3, 4, 5, 6]\n",
            "[6, 5, 4, 3, 2, 1]\n",
            "[1, 2, 3, 4, 5, 6, 7]\n"
          ],
          "name": "stdout"
        }
      ]
    },
    {
      "cell_type": "code",
      "metadata": {
        "id": "Yh2PkdubL3Sr",
        "colab_type": "code",
        "colab": {}
      },
      "source": [
        "mixed_list = [1,2,3,\"aa\",\"bb\"]\n",
        "print(mixed_list)"
      ],
      "execution_count": 0,
      "outputs": []
    },
    {
      "cell_type": "code",
      "metadata": {
        "id": "rTa1ckubMDPm",
        "colab_type": "code",
        "outputId": "7232d0c2-1e54-40ca-93b0-76f8d4cedeb4",
        "colab": {
          "base_uri": "https://localhost:8080/",
          "height": 51
        }
      },
      "source": [
        "# Tuple\n",
        "t = (1,2,3,3,4,5,5,6)\n",
        "\n",
        "print(t.count(5))\n",
        "print(t.index(5))"
      ],
      "execution_count": 0,
      "outputs": [
        {
          "output_type": "stream",
          "text": [
            "2\n",
            "5\n"
          ],
          "name": "stdout"
        }
      ]
    },
    {
      "cell_type": "code",
      "metadata": {
        "id": "tqX3sXybMmMI",
        "colab_type": "code",
        "outputId": "ecd0c64d-df79-46dc-cb40-49d4f4cb121d",
        "colab": {
          "base_uri": "https://localhost:8080/",
          "height": 34
        }
      },
      "source": [
        "# Dictionary\n",
        "dictionary = {\"ali\":32,\"veli\":45,\"ayse\":13}\n",
        "print(dictionary)\n",
        "# ali ,veli ,ayse = keys\n",
        "# 32,45,13 = values\n"
      ],
      "execution_count": 11,
      "outputs": [
        {
          "output_type": "stream",
          "text": [
            "{'ali': 32, 'veli': 45, 'ayse': 13}\n"
          ],
          "name": "stdout"
        }
      ]
    },
    {
      "cell_type": "code",
      "metadata": {
        "id": "srczY-8BAGHp",
        "colab_type": "code",
        "outputId": "99db238c-186c-490d-8097-7492bd958476",
        "colab": {
          "base_uri": "https://localhost:8080/",
          "height": 34
        }
      },
      "source": [
        "var_two = 5\n",
        "print(var_two)"
      ],
      "execution_count": 0,
      "outputs": [
        {
          "output_type": "stream",
          "text": [
            "5\n"
          ],
          "name": "stdout"
        }
      ]
    },
    {
      "cell_type": "code",
      "metadata": {
        "id": "TRQtNSK1MxP2",
        "colab_type": "code",
        "colab": {}
      },
      "source": [
        "#Conditionals\n",
        "var1 = 10\n",
        "var2 = 20\n",
        "\n",
        "if(var1 > var2):\n",
        "    print(\"var1 is greater than var2\")\n",
        "elif(var1 == var2):\n",
        "    print(\"var1 and var2 are equal\")\n",
        "else:\n",
        "    print(\"var1 is less than var2\")"
      ],
      "execution_count": 0,
      "outputs": []
    },
    {
      "cell_type": "code",
      "metadata": {
        "id": "BhZrcPSDM24R",
        "colab_type": "code",
        "colab": {}
      },
      "source": [
        "list1 = [1,2,3,4,5]\n",
        "\n",
        "value = 9\n",
        "if value in list1:\n",
        "    print(\" {} is in the list\".format(value))\n",
        "else:\n",
        "    print(\"{} is  not in the list\".format(value))"
      ],
      "execution_count": 0,
      "outputs": []
    },
    {
      "cell_type": "code",
      "metadata": {
        "id": "Fsps8EfBM7ep",
        "colab_type": "code",
        "colab": {}
      },
      "source": [
        "# Loops\n",
        "for each in range(1,11):\n",
        "    print(each)"
      ],
      "execution_count": 0,
      "outputs": []
    },
    {
      "cell_type": "code",
      "metadata": {
        "id": "jhV1mF0bPh5V",
        "colab_type": "code",
        "colab": {}
      },
      "source": [
        "for each in \"ankara ist\":\n",
        "    print(each)"
      ],
      "execution_count": 0,
      "outputs": []
    },
    {
      "cell_type": "code",
      "metadata": {
        "id": "FfXxQpSvPiJ-",
        "colab_type": "code",
        "colab": {}
      },
      "source": [
        "for each in \"ankara ist\".split(): \n",
        "    print(each)       "
      ],
      "execution_count": 0,
      "outputs": []
    },
    {
      "cell_type": "code",
      "metadata": {
        "id": "vUkmHzsCONib",
        "colab_type": "code",
        "colab": {}
      },
      "source": [
        "list1 = [1,4,5,6,8,3,3,4,67]\n",
        " \n",
        "counter = 0\n",
        "for each in list1:\n",
        "    counter = counter + each\n",
        "print(counter)\n",
        "summation = sum(list1)\n",
        "print(summation)"
      ],
      "execution_count": 0,
      "outputs": []
    },
    {
      "cell_type": "code",
      "metadata": {
        "id": "kHJWDoyzOxJL",
        "colab_type": "code",
        "colab": {}
      },
      "source": [
        "# while loop\n",
        "    \n",
        "i = 0\n",
        "while(i <4):\n",
        "  print(i)\n",
        "  i = i + 1\n"
      ],
      "execution_count": 0,
      "outputs": []
    },
    {
      "cell_type": "code",
      "metadata": {
        "id": "YjkaV7uIO78H",
        "colab_type": "code",
        "colab": {}
      },
      "source": [
        "list1 = [1,4,5,6,8,3,3,4,67]\n",
        "length = len(list1)   \n",
        "each = 0\n",
        "count = 0\n",
        "while(each < length):\n",
        "    count = count + list1[each]\n",
        "    each = each + 1 \n",
        "print(count)"
      ],
      "execution_count": 0,
      "outputs": []
    }
  ]
}